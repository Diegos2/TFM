{
 "cells": [
  {
   "cell_type": "code",
   "execution_count": 1,
   "metadata": {},
   "outputs": [],
   "source": [
    "#importación de librerías\n",
    "import pandas as pd\n",
    "import numpy as np\n",
    "import matplotlib.pyplot as plt\n",
    "import seaborn as sns\n",
    "import csv\n",
    "from sklearn.ensemble import RandomForestRegressor\n",
    "from sklearn.model_selection import train_test_split\n",
    "from sklearn.metrics import mean_absolute_error, mean_squared_error"
   ]
  },
  {
   "cell_type": "markdown",
   "metadata": {},
   "source": [
    "Importación y tratamiento de datos"
   ]
  },
  {
   "cell_type": "code",
   "execution_count": 2,
   "metadata": {},
   "outputs": [],
   "source": [
    "#Parametros\n",
    "dia_prediccion = '2025-06-11'\n",
    "# Crea las marcas de tiempo para el inicio y el final del día\n",
    "inicio_dia = pd.to_datetime(dia_prediccion + ' 00:00:00+00:00')\n",
    "fin_dia = pd.to_datetime(dia_prediccion + ' 23:59:59+00:00')\n",
    "departamento = 'HUILA'\n",
    "municipio = 'PITALITO'\n",
    "#Carga de los archivos csv por año ubicados en: https://drive.google.com/drive/folders/10BtFS1WbWR7ZQ19MlgSB74CF0we8ztUB?usp=drive_link \n",
    "df_2020 = pd.read_csv('D:/DevHitss/unir/Maestria/TFM/humedad_5a/TFM.humedad_2020.csv')\n",
    "df_2021 = pd.read_csv('D:/DevHitss/unir/Maestria/TFM/humedad_5a/TFM.humedad_2021.csv')\n",
    "df_2022 = pd.read_csv('D:/DevHitss/unir/Maestria/TFM/humedad_5a/TFM.humedad_2022.csv')\n",
    "df_2023 = pd.read_csv('D:/DevHitss/unir/Maestria/TFM/humedad_5a/TFM.humedad_2023.csv')\n",
    "df_2024 = pd.read_csv('D:/DevHitss/unir/Maestria/TFM/humedad_5a/TFM.humedad_2024.csv')\n",
    "df_2025 = pd.read_csv('D:/DevHitss/unir/Maestria/TFM/humedad_5a/TFM.humedad_2025.csv')\n",
    "df_2025_2 = pd.read_csv('D:/DevHitss/unir/Maestria/TFM/humedad_5a/TFM.humedad_2025_may_jun.csv')\n",
    "#Concatenación de los 6 archivos en un solo dataframe llamado df_concat\n",
    "df_concat = pd.concat([df_2020, df_2021, df_2022, df_2023, df_2024, df_2025, df_2025_2], axis=0, ignore_index=True)\n",
    "df_concat = df_concat.drop('_id', axis=1)\n",
    "#Asegurarnos que la fechamedida sea un tipo de dato datetime\n",
    "df_concat['fechamedida'] = pd.to_datetime(df_concat['fechamedida'])\n",
    "#Creación de columnas para posterior análisis\n",
    "df_concat['anio'] = df_concat['fechamedida'].dt.year\n",
    "df_concat['mes'] = df_concat['fechamedida'].dt.month\n",
    "df_concat['dia'] = df_concat['fechamedida'].dt.day\n",
    "df_concat['hora'] = df_concat['fechamedida'].dt.hour\n",
    "df_concat['nombre_mes'] = df_concat['mes'].map({\n",
    "     1: 'Enero', 2: 'Febrero', 3: 'Marzo', 4: 'Abril', 5: 'Mayo', 6: 'Junio'\n",
    "     , 7: 'Julio', 8: 'Agosto', 9: 'Septiembre', 10: 'Octubre', 11: 'Noviembre', 12: 'Diciembre'\n",
    "})"
   ]
  },
  {
   "cell_type": "markdown",
   "metadata": {},
   "source": [
    "Creación de dataframes para entregarlos al modelo"
   ]
  },
  {
   "cell_type": "code",
   "execution_count": 3,
   "metadata": {},
   "outputs": [
    {
     "name": "stdout",
     "output_type": "stream",
     "text": [
      "32524185\n",
      "18990\n"
     ]
    }
   ],
   "source": [
    "#Creamos un nuevo dataframe con valores que no contengan cero (0) en el valor observado\n",
    "df_filtrado = df_concat[df_concat['valorobservado'] != 0]\n",
    "print(len(df_filtrado))\n",
    "# Filtrar los datos por departamento y municipio seleccionado\n",
    "df_municipio = df_filtrado[(df_filtrado['departamento'] == departamento) & (df_filtrado['municipio'] == municipio)]\n",
    "print(len(df_municipio))\n",
    "#Creación de los dataframe según la fecha a analizar\n",
    "df_real = df_municipio[(df_municipio['fechamedida'] >= inicio_dia) & (df_municipio['fechamedida'] <= fin_dia)]\n",
    "df_municipio = df_municipio[df_municipio['fechamedida'] < inicio_dia]"
   ]
  },
  {
   "cell_type": "code",
   "execution_count": 4,
   "metadata": {},
   "outputs": [],
   "source": [
    "#Activar las siguientes líneas si desea revisar información\n",
    "#df_municipio.describe()\n",
    "#df_municipio.head(10)\n",
    "#df_municipio.dtypes"
   ]
  },
  {
   "cell_type": "markdown",
   "metadata": {},
   "source": [
    "INICIO DEL MODELO"
   ]
  },
  {
   "cell_type": "code",
   "execution_count": 5,
   "metadata": {},
   "outputs": [],
   "source": [
    "X = df_municipio[['hora', 'dia', 'mes', 'anio']]\n",
    "y = df_municipio['valorobservado'].astype(float)\n",
    "X_train, X_test, y_train, y_test = train_test_split(X, y, test_size=0.2, shuffle=False)\n",
    "\n",
    "#Configuración del modelo\n",
    "modelo_rf = RandomForestRegressor(n_estimators=100, random_state=42)\n",
    "modelo_rf.fit(X_train, y_train)\n",
    "y_pred = modelo_rf.predict(X_test)\n"
   ]
  },
  {
   "cell_type": "markdown",
   "metadata": {},
   "source": [
    "Evaluacion del modelo"
   ]
  },
  {
   "cell_type": "code",
   "execution_count": 6,
   "metadata": {},
   "outputs": [
    {
     "name": "stdout",
     "output_type": "stream",
     "text": [
      "MAE del modelo de regresión: 6.27\n",
      "RMSE del modelo de regresión: 7.66\n"
     ]
    }
   ],
   "source": [
    "# Evaluar el rendimiento del modelo en el conjunto de prueba\n",
    "mae = mean_absolute_error(y_test, y_pred)\n",
    "# Calcular el MSE y el RMSE\n",
    "mse = mean_squared_error(y_test, y_pred)\n",
    "rmse = np.sqrt(mse)\n",
    "print(f\"MAE del modelo de regresión: {mae:.2f}\")\n",
    "print(f\"RMSE del modelo de regresión: {rmse:.2f}\")"
   ]
  },
  {
   "cell_type": "markdown",
   "metadata": {},
   "source": [
    "Alistamiento de información para graficar los resultados"
   ]
  },
  {
   "cell_type": "code",
   "execution_count": 7,
   "metadata": {},
   "outputs": [],
   "source": [
    "# Creación del dataframe con el día a predecir\n",
    "fecha_prediccion = dia_prediccion\n",
    "horas = list(range(24))\n",
    "df_prediccion = pd.DataFrame({\n",
    "    'hora': horas,\n",
    "    'dia': [int(dia_prediccion[8:10])]*24,\n",
    "    'mes': [int(dia_prediccion[5:7])]*24,\n",
    "    'anio': [int(dia_prediccion[0:4])]*24\n",
    "})\n",
    "# Predecir\n",
    "predicciones = modelo_rf.predict(df_prediccion)\n",
    "# Combinar con índice horario\n",
    "df_resultado = pd.DataFrame({\n",
    "    \"fecha_hora\": pd.date_range(start= dia_prediccion + \" 00:00\", end= dia_prediccion + \" 23:00\", freq=\"h\"),\n",
    "    \"humedad_predicha\": predicciones\n",
    "})\n",
    "#print(df_resultado)"
   ]
  },
  {
   "cell_type": "code",
   "execution_count": 8,
   "metadata": {},
   "outputs": [],
   "source": [
    "#Se realiza alistamiento del df con los valores reales de la humedad relativa (ejercicio de comparación)\n",
    "df_real_agrupado = df_real.groupby('fechamedida')['valorobservado'].mean().reset_index()\n",
    "df_real_agrupado['fechamedida'] = df_real_agrupado['fechamedida'].dt.strftime('%Y-%m-%d %H:%M:%S')\n",
    "df_real_agrupado['fechamedida'] = pd.to_datetime(df_real_agrupado['fechamedida'])\n",
    "# Unificar los nombres de las columnas de fecha/hora para la fusión\n",
    "df_resultado.rename(columns={'fecha_hora': 'Hora'}, inplace=True)\n",
    "df_real_agrupado.rename(columns={'fechamedida': 'Hora'}, inplace=True)\n",
    "#print(df_real_agrupado)\n",
    "# Usamos un merge 'outer' para incluir todas las fechas/horas si no coinciden perfectamente\n",
    "df_final = pd.merge(df_resultado, df_real_agrupado, on='Hora', how='outer')\n",
    "# Ordenar por tiempo para asegurar que la gráfica se vea bien\n",
    "df_final.sort_values('Hora', inplace=True)"
   ]
  },
  {
   "cell_type": "code",
   "execution_count": 9,
   "metadata": {},
   "outputs": [],
   "source": [
    "#activar si se requiere verificar el tipo de dato\n",
    "#print(df_resultado['Hora'].dtype)\n",
    "#print(df_real_agrupado['Hora'].dtype)"
   ]
  },
  {
   "cell_type": "code",
   "execution_count": 10,
   "metadata": {},
   "outputs": [
    {
     "data": {
      "image/png": "[encoded data removed]",
      "text/plain": [
       "<Figure size 864x432 with 1 Axes>"
      ]
     },
     "metadata": {
      "needs_background": "light"
     },
     "output_type": "display_data"
    }
   ],
   "source": [
    "# Crear la gráfica\n",
    "plt.figure(figsize=(12, 6))\n",
    "# Graficar 'valor_observado'\n",
    "plt.plot(df_final['Hora'], df_final['valorobservado'], label='Valor Observado', marker='o', linestyle='-')\n",
    "# Graficar 'humedad_predicha'\n",
    "plt.plot(df_final['Hora'], df_final['humedad_predicha'], label='Humedad Predicha', marker='x', linestyle='--')\n",
    "# Añadir títulos y etiquetas\n",
    "plt.title('Comparación de Valor Observado y Humedad Predicha a lo largo del Tiempo')\n",
    "plt.xlabel('Fecha y Hora')\n",
    "plt.ylabel('Valores')\n",
    "plt.grid(True)\n",
    "plt.legend() # Mostrar la leyenda para identificar cada línea\n",
    "plt.tight_layout() # Ajustar el diseño para que no se corten las etiquetas\n",
    "plt.show()"
   ]
  },
  {
   "cell_type": "code",
   "execution_count": 11,
   "metadata": {},
   "outputs": [
    {
     "name": "stdout",
     "output_type": "stream",
     "text": [
      "                  Hora  humedad_predicha  valorobservado\n",
      "0  2025-06-11 00:00:00             53.05            61.0\n",
      "1  2025-06-11 01:00:00             53.60            59.0\n",
      "2  2025-06-11 02:00:00             54.76            59.0\n",
      "3  2025-06-11 03:00:00             57.71            58.0\n",
      "4  2025-06-11 04:00:00             60.76            58.0\n",
      "5  2025-06-11 05:00:00             65.94            58.0\n",
      "6  2025-06-11 06:00:00             68.18            58.0\n",
      "7  2025-06-11 07:00:00             69.28            58.0\n",
      "8  2025-06-11 08:00:00             68.79            58.0\n",
      "9  2025-06-11 09:00:00             67.47            58.0\n",
      "10 2025-06-11 10:00:00             67.30            58.0\n",
      "11 2025-06-11 11:00:00             67.01            58.0\n",
      "12 2025-06-11 12:00:00             66.25            58.0\n",
      "13 2025-06-11 13:00:00             63.49            59.0\n",
      "14 2025-06-11 14:00:00             61.35            59.0\n",
      "15 2025-06-11 15:00:00             59.02            60.0\n",
      "16 2025-06-11 16:00:00             58.04            63.0\n",
      "17 2025-06-11 17:00:00             57.96            64.0\n",
      "18 2025-06-11 18:00:00             57.85            66.0\n",
      "19 2025-06-11 19:00:00             57.55            66.0\n",
      "20 2025-06-11 20:00:00             57.70            68.0\n",
      "21 2025-06-11 21:00:00             57.70            68.0\n",
      "22 2025-06-11 22:00:00             57.70            65.0\n",
      "23 2025-06-11 23:00:00             57.70            63.0\n"
     ]
    }
   ],
   "source": [
    "print(df_final)"
   ]
  }
 ],
 "metadata": {
  "kernelspec": {
   "display_name": "Python 3",
   "language": "python",
   "name": "python3"
  },
  "language_info": {
   "codemirror_mode": {
    "name": "ipython",
    "version": 3
   },
   "file_extension": ".py",
   "mimetype": "text/x-python",
   "name": "python",
   "nbconvert_exporter": "python",
   "pygments_lexer": "ipython3",
   "version": "3.10.11"
  }
 },
 "nbformat": 4,
 "nbformat_minor": 2
}
